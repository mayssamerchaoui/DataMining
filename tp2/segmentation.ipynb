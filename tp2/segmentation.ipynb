{
 "cells": [
  {
   "cell_type": "markdown",
   "metadata": {},
   "source": [
    "<div><img src=\"img.png\"height=\"300\" width=\"900\" ></div>"
   ]
  },
  {
   "cell_type": "code",
   "execution_count": null,
   "metadata": {},
   "outputs": [],
   "source": [
    "import numpy as np\n",
    "import cv2\n",
    "from sklearn.cluster import KMeans\n",
    "from sklearn.cluster import MiniBatchKMeans\n",
    "import skimage.io\n",
    "import matplotlib.pyplot as plt\n",
    "import pandas as pd\n",
    "\n",
    "# Loading image\n",
    "image = cv2.imread('image/eleph.jpg')\n",
    "(h1, w1) = image.shape[:2]\n",
    "\n",
    "# Change color to RGB (from BGR) \n",
    "image = cv2.cvtColor(image, cv2.COLOR_BGR2LAB)\n",
    "\n",
    "#reshape the image to a 2D array of pixels and 3 color values (RGB)\n",
    "image = image.reshape((image.shape[0] * image.shape[1], 3))\n",
    "\n",
    "clt = KMeans(n_clusters = 2)\n",
    "\n",
    "labels = clt.fit_predict(image)\n",
    "quant = clt.cluster_centers_.astype(\"uint8\")[labels]\n",
    "\n",
    "#reshape the feature vectors to images\n",
    "quant = quant.reshape((h1, w1, 3))\n",
    "image = image.reshape((h1, w1, 3))\n",
    "\n",
    "# convert from L*a*b* to RGB\n",
    "quant = cv2.cvtColor(quant, cv2.COLOR_LAB2BGR)\n",
    "image = cv2.cvtColor(image, cv2.COLOR_LAB2BGR)\n",
    "\n",
    "cv2.imwrite('image/eleph2.jpg', quant)\n",
    "image0 = cv2.imread('image/eleph2.jpg')\n",
    "\n",
    "plt.figure(num = 1, figsize = (5,5))\n",
    "plt.imshow(image0)\n",
    "\n",
    "cv2.imread('image/eleph.jpg')\n",
    "cv2.waitKey(0)\n",
    "cv2.destroyAllWindows()"
   ]
  },
  {
   "cell_type": "code",
   "execution_count": null,
   "metadata": {},
   "outputs": [],
   "source": [
    "plt.imshow(image)"
   ]
  },
  {
   "cell_type": "code",
   "execution_count": null,
   "metadata": {},
   "outputs": [],
   "source": [
    "import skimage.io\n",
    "import matplotlib.pyplot as plt\n",
    "\n",
    "img_path = \"image/eleph.jpg\"\n",
    "img = skimage.io.imread(img_path)/255.0\n",
    "\n",
    "def plotnoise(img, mode, r, c, i):\n",
    "    plt.subplot(r,c,i)\n",
    "    if mode is not None:\n",
    "        gimg = skimage.util.random_noise(img, mode=mode)\n",
    "        plt.imshow(gimg)\n",
    "    else:\n",
    "        plt.imshow(img)\n",
    "    plt.title(mode)\n",
    "    plt.axis(\"off\")\n",
    "\n",
    "plt.figure(figsize=(18,24))\n",
    "r=4\n",
    "c=2\n",
    "plotnoise(img, \"gaussian\", r,c,1)\n",
    "plotnoise(img, \"localvar\", r,c,2)\n",
    "plotnoise(img, \"poisson\", r,c,3)\n",
    "plotnoise(img, \"salt\", r,c,4)\n",
    "plotnoise(img, \"pepper\", r,c,5)\n",
    "plotnoise(img, \"s&p\", r,c,6)\n",
    "plotnoise(img, \"speckle\", r,c,7)\n",
    "plotnoise(img, None, r,c,8)\n",
    "plt.show()"
   ]
  },
  {
   "cell_type": "markdown",
   "metadata": {},
   "source": [
    "## algorithme de K-means Clustering"
   ]
  },
  {
   "cell_type": "code",
   "execution_count": null,
   "metadata": {},
   "outputs": [],
   "source": [
    "import skimage.io\n",
    "import matplotlib.pyplot as plt\n",
    "import matplotlib.image as mpimg\n",
    "from PIL import Image\n",
    "img_path=\"image/fl.jpg\"\n",
    "img = skimage.io.imread(img_path)/255.0\n",
    "\n",
    "def plotnoise(img, mode, r, c, i):\n",
    "    plt.subplot(r,c,i)\n",
    "    if mode is not None:\n",
    "        gimg = skimage.util.random_noise(img, mode=mode)\n",
    "        plt.imshow(gimg)\n",
    "        mpimg.imsave(\"resultat.png\",  gimg)\n",
    "        \n",
    "\n",
    "    else:\n",
    "        plt.imshow(img)\n",
    "    plt.title(mode)\n",
    "    plt.axis(\"off\")\n",
    "\n",
    "plt.figure(figsize=(18,24))\n",
    "r=4\n",
    "c=2\n",
    "plotnoise(img,None, r,c,1)\n",
    "plotnoise(img, \"s&p\", r,c,2)\n",
    "\n",
    "plt.show()"
   ]
  },
  {
   "cell_type": "code",
   "execution_count": null,
   "metadata": {},
   "outputs": [],
   "source": [
    "import numpy as np\n",
    "import cv2\n",
    "from sklearn.cluster import KMeans\n",
    "from sklearn.cluster import MiniBatchKMeans\n",
    "import skimage.io\n",
    "import matplotlib.pyplot as plt\n",
    "\n",
    "image = cv2.imread('resultat.png')\n",
    "\n",
    "(h1, w1) = image.shape[:2]\n",
    "\n",
    "image = cv2.cvtColor(image, cv2.COLOR_BGR2LAB)\n",
    "\n",
    "image = image.reshape((image.shape[0] * image.shape[1], 3))\n",
    "\n",
    "clt = KMeans(n_clusters = 2)\n",
    "\n",
    "labels = clt.fit_predict(image)\n",
    "quant = clt.cluster_centers_.astype(\"uint8\")[labels]\n",
    "\n",
    "#reshape the feature vectors to images\n",
    "quant = quant.reshape((h1, w1, 3))\n",
    "image = image.reshape((h1, w1, 3))\n",
    "\n",
    "# convert from L*a*b* to RGB\n",
    "quant = cv2.cvtColor(quant, cv2.COLOR_LAB2BGR)\n",
    "image = cv2.cvtColor(image, cv2.COLOR_LAB2BGR)\n",
    "\n",
    "cv2.imwrite('resultat2.png', quant)\n",
    "plt.imshow(image)\n",
    "\n",
    "cv2.imread('resultat.png')\n",
    "cv2.waitKey(0)\n",
    "cv2.destroyAllWindows()"
   ]
  },
  {
   "cell_type": "code",
   "execution_count": null,
   "metadata": {},
   "outputs": [],
   "source": [
    "from skimage.restoration import denoise_tv_chambolle\n",
    "import skimage.io\n",
    "import matplotlib.pyplot as plt\n",
    "\n",
    "img_path=\"resultat.jpg\"\n",
    "\n",
    "plotnoise(img, \"s&p\", r,c,3)\n",
    "plt.show()\n",
    "noise = denoise_tv_chambolle(img,\n",
    "weight=0.1,\n",
    "multichannel=True)\n",
    "\n",
    "plt.imshow(noise)\n",
    "plt.imsave(\"newimage.jpg\",noise)"
   ]
  },
  {
   "cell_type": "code",
   "execution_count": null,
   "metadata": {},
   "outputs": [],
   "source": [
    "image = cv2.imread('image/fl.jpg')\n",
    "image = cv2.cvtColor(image, cv2.COLOR_BGR2RGB)\n",
    "plt.imshow(image)"
   ]
  },
  {
   "cell_type": "code",
   "execution_count": null,
   "metadata": {},
   "outputs": [],
   "source": [
    "pixel_values = image.reshape((-1, 3))\n",
    "pixel_values = np.float32(pixel_values)\n",
    "pixel_values = image.reshape((-1, 3))\n",
    "pixel_values = np.float32(pixel_values)\n",
    "criteria = (cv2.TERM_CRITERIA_EPS + cv2.TERM_CRITERIA_MAX_ITER, 100, 0.2)"
   ]
  },
  {
   "cell_type": "code",
   "execution_count": null,
   "metadata": {},
   "outputs": [],
   "source": [
    "def CulsterImage(k):\n",
    "   \n",
    "    _, labels, (centers) = cv2.kmeans(pixel_values, k, None, criteria, 10, cv2.KMEANS_RANDOM_CENTERS)\n",
    "\n",
    "    centers = np.uint8(centers)\n",
    "\n",
    "    labels = labels.flatten()\n",
    "\n",
    "    segmented_image = centers[labels.flatten()]\n",
    "\n",
    "    segmented_image = segmented_image.reshape(image.shape)\n",
    "    return segmented_image"
   ]
  },
  {
   "cell_type": "code",
   "execution_count": null,
   "metadata": {},
   "outputs": [],
   "source": [
    "k2=CulsterImage(2)\n",
    "k4=CulsterImage(4)\n",
    "k6=CulsterImage(6)\n",
    "k8=CulsterImage(8)\n",
    "k10=CulsterImage(10)"
   ]
  },
  {
   "cell_type": "code",
   "execution_count": null,
   "metadata": {},
   "outputs": [],
   "source": [
    "plt.figure(figsize=(15,24))\n",
    "\n",
    "plt.subplot(2,3,1)\n",
    "plt.title('Image Original')\n",
    "plt.imshow(image)\n",
    "\n",
    "plt.subplot(2,3,2)\n",
    "plt.title('k=2')\n",
    "plt.imshow(k2)\n",
    "\n",
    "plt.subplot(2,3,3)\n",
    "plt.title('k=4')\n",
    "plt.imshow(k4)\n",
    "\n",
    "plt.subplot(2,3,4)\n",
    "plt.title('k=6')\n",
    "plt.imshow(k6)\n",
    "\n",
    "plt.subplot(2,3,5)\n",
    "plt.title('k=8')\n",
    "plt.imshow(k8)\n",
    "\n",
    "plt.subplot(2,3,6)\n",
    "plt.title('k=10')\n",
    "plt.imshow(k10)\n",
    "\n",
    "plt.show()"
   ]
  }
 ],
 "metadata": {
  "kernelspec": {
   "display_name": "Python 3",
   "language": "python",
   "name": "python3"
  },
  "language_info": {
   "codemirror_mode": {
    "name": "ipython",
    "version": 3
   },
   "file_extension": ".py",
   "mimetype": "text/x-python",
   "name": "python",
   "nbconvert_exporter": "python",
   "pygments_lexer": "ipython3",
   "version": "3.8.5"
  }
 },
 "nbformat": 4,
 "nbformat_minor": 4
}
